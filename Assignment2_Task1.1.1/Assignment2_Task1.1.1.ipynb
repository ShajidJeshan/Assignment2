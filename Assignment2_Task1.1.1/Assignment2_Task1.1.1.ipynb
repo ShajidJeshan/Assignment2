{
 "cells": [
  {
   "cell_type": "code",
   "execution_count": 1,
   "metadata": {},
   "outputs": [
    {
     "name": "stdout",
     "output_type": "stream",
     "text": [
      "15\n"
     ]
    }
   ],
   "source": [
    "def my_reduce(function,sequence):\n",
    "    leng=len(sequence)\n",
    "    para1=sequence[0]\n",
    "    for i in range(1,leng):\n",
    "        para2=sequence[i]\n",
    "        para1=function(para1,para2)\n",
    "    return para1\n",
    "\n",
    "\n",
    "def summ(x,y):\n",
    "    return x+y\n",
    "lis=[1,2,3,4,5]\n",
    "print(my_reduce(summ,lis))"
   ]
  }
 ],
 "metadata": {
  "kernelspec": {
   "display_name": "Python 3",
   "language": "python",
   "name": "python3"
  },
  "language_info": {
   "codemirror_mode": {
    "name": "ipython",
    "version": 3
   },
   "file_extension": ".py",
   "mimetype": "text/x-python",
   "name": "python",
   "nbconvert_exporter": "python",
   "pygments_lexer": "ipython3",
   "version": "3.6.2"
  }
 },
 "nbformat": 4,
 "nbformat_minor": 2
}
