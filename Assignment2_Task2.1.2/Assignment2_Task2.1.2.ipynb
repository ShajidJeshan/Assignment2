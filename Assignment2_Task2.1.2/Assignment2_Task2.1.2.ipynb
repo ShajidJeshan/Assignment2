{
 "cells": [
  {
   "cell_type": "code",
   "execution_count": 1,
   "metadata": {},
   "outputs": [
    {
     "name": "stdout",
     "output_type": "stream",
     "text": [
      "['finished']\n"
     ]
    }
   ],
   "source": [
    "word=['do','did','done','go','went','gone','finished']\n",
    "def filter_long_words(lis,n):\n",
    "    return [i for i in lis if len(i)>n]\n",
    "print(filter_long_words(word,4))"
   ]
  }
 ],
 "metadata": {
  "kernelspec": {
   "display_name": "Python 3",
   "language": "python",
   "name": "python3"
  },
  "language_info": {
   "codemirror_mode": {
    "name": "ipython",
    "version": 3
   },
   "file_extension": ".py",
   "mimetype": "text/x-python",
   "name": "python",
   "nbconvert_exporter": "python",
   "pygments_lexer": "ipython3",
   "version": "3.6.2"
  }
 },
 "nbformat": 4,
 "nbformat_minor": 2
}
